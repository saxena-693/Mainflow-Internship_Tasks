{
  "nbformat": 4,
  "nbformat_minor": 0,
  "metadata": {
    "colab": {
      "provenance": []
    },
    "kernelspec": {
      "name": "python3",
      "display_name": "Python 3"
    },
    "language_info": {
      "name": "python"
    }
  },
  "cells": [
    {
      "cell_type": "code",
      "execution_count": 6,
      "metadata": {
        "colab": {
          "base_uri": "https://localhost:8080/"
        },
        "id": "FNOCuJ0RNDPp",
        "outputId": "8f9b7ec1-57bb-41f9-c747-28b35ea1c111"
      },
      "outputs": [
        {
          "output_type": "stream",
          "name": "stdout",
          "text": [
            "True\n"
          ]
        }
      ],
      "source": [
        "#Task 39: Sudoku Validator\n",
        "#Objective: Validate whether a given Sudoku board configuration is valid.\n",
        "\n",
        "#Code:-\n",
        "def is_valid_sudoku(board):\n",
        "    rows = [set() for _ in range(9)]\n",
        "    cols = [set() for _ in range(9)]\n",
        "    boxes = [set() for _ in range(9)]\n",
        "\n",
        "    for r in range(9):\n",
        "        for c in range(9):\n",
        "            num = board[r][c]\n",
        "            if num == \".\":\n",
        "                continue\n",
        "            if num in rows[r] or num in cols[c] or num in boxes[(r // 3) * 3 + (c // 3)]:\n",
        "                return False\n",
        "            rows[r].add(num)\n",
        "            cols[c].add(num)\n",
        "            boxes[(r // 3) * 3 + (c // 3)].add(num)\n",
        "    return True\n",
        "\n",
        "#Example\n",
        "board = [\n",
        "[\"5\",\"3\",\".\",\".\",\"7\",\".\",\".\",\".\",\".\"],\n",
        "[\"6\",\".\",\".\",\"1\",\"9\",\"5\",\".\",\".\",\".\"],\n",
        "[\".\",\"9\",\"8\",\".\",\".\",\".\",\".\",\"6\",\".\"],\n",
        "[\"8\",\".\",\".\",\".\",\"6\",\".\",\".\",\".\",\"3\"],\n",
        "[\"4\",\".\",\".\",\"8\",\".\",\"3\",\".\",\".\",\"1\"],\n",
        "[\"7\",\".\",\".\",\".\",\"2\",\".\",\".\",\".\",\"6\"],\n",
        "[\".\",\"6\",\".\",\".\",\".\",\".\",\"2\",\"8\",\".\"],\n",
        "[\".\",\".\",\".\",\"4\",\"1\",\"9\",\".\",\".\",\"5\"],\n",
        "[\".\",\".\",\".\",\".\",\"8\",\".\",\".\",\"7\",\"9\"]\n",
        "]\n",
        "print(is_valid_sudoku(board))"
      ]
    },
    {
      "cell_type": "code",
      "source": [
        "#Task 40: Word Frequency in Text\n",
        "#Objective: Count the frequency of each word in a given text.\n",
        "\n",
        "#Code:-\n",
        "def word_frequency(text):\n",
        "    words = text.lower().split()\n",
        "    freq = {}\n",
        "    for word in words:\n",
        "        freq[word] = freq.get(word, 0) + 1\n",
        "    return freq\n",
        "\n",
        "#Example\n",
        "print(word_frequency(\"hello world hello python world\"))"
      ],
      "metadata": {
        "colab": {
          "base_uri": "https://localhost:8080/"
        },
        "id": "GZulg9JhNLQn",
        "outputId": "a21f55f8-ecfb-4247-d419-eca1fe3c561e"
      },
      "execution_count": 7,
      "outputs": [
        {
          "output_type": "stream",
          "name": "stdout",
          "text": [
            "{'hello': 2, 'world': 2, 'python': 1}\n"
          ]
        }
      ]
    },
    {
      "cell_type": "code",
      "source": [
        "#Task 41: Knapsack Problem (0/1)\n",
        "#Objective: Solve the 0/1 knapsack problem using dynamic programming.\n",
        "\n",
        "#Code:-\n",
        "def knapsack(weights, values, capacity):\n",
        "    n = len(weights)\n",
        "    dp = [[0] * (capacity + 1) for _ in range(n + 1)]\n",
        "\n",
        "    for i in range(1, n + 1):\n",
        "        for w in range(1, capacity + 1):\n",
        "            if weights[i - 1] <= w:\n",
        "                dp[i][w] = max(values[i - 1] + dp[i - 1][w - weights[i - 1]], dp[i - 1][w])\n",
        "            else:\n",
        "                dp[i][w] = dp[i - 1][w]\n",
        "    return dp[n][capacity]\n",
        "\n",
        "#Example\n",
        "print(knapsack([2,3,4,5], [3,4,5,6], 5))"
      ],
      "metadata": {
        "colab": {
          "base_uri": "https://localhost:8080/"
        },
        "id": "0nwO2agvNR5I",
        "outputId": "e171a549-7daa-4ada-d622-be79ece53956"
      },
      "execution_count": 8,
      "outputs": [
        {
          "output_type": "stream",
          "name": "stdout",
          "text": [
            "7\n"
          ]
        }
      ]
    },
    {
      "cell_type": "code",
      "source": [
        "#Task 42: Merge Intervals\n",
        "#Objective: Merge overlapping intervals in a list of intervals.\n",
        "\n",
        "#Code:-\n",
        "def merge_intervals(intervals):\n",
        "    intervals.sort(key=lambda x: x[0])\n",
        "    merged = []\n",
        "    for interval in intervals:\n",
        "        if not merged or merged[-1][1] < interval[0]:\n",
        "            merged.append(interval)\n",
        "        else:\n",
        "            merged[-1][1] = max(merged[-1][1], interval[1])\n",
        "    return merged\n",
        "\n",
        "#Example\n",
        "print(merge_intervals([[1,3],[2,6],[8,10],[15,18]]))"
      ],
      "metadata": {
        "colab": {
          "base_uri": "https://localhost:8080/"
        },
        "id": "SDAwvhCyNsIK",
        "outputId": "1fb0230f-d91f-4077-bd7c-6e0bc5acd479"
      },
      "execution_count": 9,
      "outputs": [
        {
          "output_type": "stream",
          "name": "stdout",
          "text": [
            "[[1, 6], [8, 10], [15, 18]]\n"
          ]
        }
      ]
    },
    {
      "cell_type": "code",
      "source": [
        "#Task 43: Find the Median of Two Sorted Arrays\n",
        "#Objective: Find the median of two sorted arrays.\n",
        "\n",
        "#Code:-\n",
        "def find_median_sorted_arrays(nums1, nums2):\n",
        "    merged = sorted(nums1 + nums2)\n",
        "    n = len(merged)\n",
        "    if n % 2 == 1:\n",
        "        return merged[n // 2]\n",
        "    else:\n",
        "        return (merged[n // 2 - 1] + merged[n // 2]) / 2\n",
        "\n",
        "#Example\n",
        "print(find_median_sorted_arrays([1,3],[2]))"
      ],
      "metadata": {
        "colab": {
          "base_uri": "https://localhost:8080/"
        },
        "id": "MzlVzkASNxJD",
        "outputId": "ddbfb1b9-5db5-4466-deb4-0bdbc93575af"
      },
      "execution_count": 10,
      "outputs": [
        {
          "output_type": "stream",
          "name": "stdout",
          "text": [
            "2\n"
          ]
        }
      ]
    },
    {
      "cell_type": "code",
      "source": [
        "#Task 44: Maximal Rectangle in Binary Matrix\n",
        "#Objective: Find the area of the largest rectangle in a binary matrix.\n",
        "\n",
        "#Code:-\n",
        "def maximal_rectangle(matrix):\n",
        "    if not matrix: return 0\n",
        "    n = len(matrix[0])\n",
        "    heights = [0] * (n + 1)\n",
        "    max_area = 0\n",
        "\n",
        "    for row in matrix:\n",
        "        for i in range(n):\n",
        "            heights[i] = heights[i] + 1 if row[i] == \"1\" else 0\n",
        "\n",
        "        stack = []\n",
        "        for i in range(n + 1):\n",
        "            while stack and heights[i] < heights[stack[-1]]:\n",
        "                h = heights[stack.pop()]\n",
        "                w = i if not stack else i - stack[-1] - 1\n",
        "                max_area = max(max_area, h * w)\n",
        "            stack.append(i)\n",
        "    return max_area\n",
        "\n",
        "#Example\n",
        "matrix = [\n",
        "    [\"1\",\"0\",\"1\",\"0\",\"0\"],\n",
        "    [\"1\",\"0\",\"1\",\"1\",\"1\"],\n",
        "    [\"1\",\"1\",\"1\",\"1\",\"1\"],\n",
        "    [\"1\",\"0\",\"0\",\"1\",\"0\"]\n",
        "]\n",
        "print(maximal_rectangle(matrix))"
      ],
      "metadata": {
        "colab": {
          "base_uri": "https://localhost:8080/"
        },
        "id": "6oqTSLWHN0rQ",
        "outputId": "d5c2feb7-1fd3-4405-b933-4db9cc3ab405"
      },
      "execution_count": 11,
      "outputs": [
        {
          "output_type": "stream",
          "name": "stdout",
          "text": [
            "6\n"
          ]
        }
      ]
    },
    {
      "cell_type": "code",
      "source": [
        "#Task 45: Largest Sum Contiguous Subarray (Kadane's Algorithm)\n",
        "#Objective: Find the largest sum of a contiguous subarray.\n",
        "\n",
        "#Code:-\n",
        "def max_subarray(nums):\n",
        "    max_current = max_global = nums[0]\n",
        "    for num in nums[1:]:\n",
        "        max_current = max(num, max_current + num)\n",
        "        max_global = max(max_global, max_current)\n",
        "    return max_global\n",
        "\n",
        "#Example\n",
        "print(max_subarray([-2,1,-3,4,-1,2,1,-5,4]))"
      ],
      "metadata": {
        "colab": {
          "base_uri": "https://localhost:8080/"
        },
        "id": "2YX4aJZ3N4As",
        "outputId": "672ce932-838f-4d04-f3cc-b86540956e60"
      },
      "execution_count": 12,
      "outputs": [
        {
          "output_type": "stream",
          "name": "stdout",
          "text": [
            "6\n"
          ]
        }
      ]
    },
    {
      "cell_type": "code",
      "source": [
        "#Task 46: Word Ladder Problem\n",
        "#Objective: Find the shortest transformation sequence between two words.\n",
        "\n",
        "#Code:-\n",
        "from collections import deque\n",
        "\n",
        "def word_ladder(beginWord, endWord, wordList):\n",
        "    wordSet = set(wordList)\n",
        "    if endWord not in wordSet:\n",
        "        return 0\n",
        "\n",
        "    queue = deque([(beginWord, 1)])\n",
        "    while queue:\n",
        "        word, length = queue.popleft()\n",
        "        if word == endWord:\n",
        "            return length\n",
        "        for i in range(len(word)):\n",
        "            for c in \"abcdefghijklmnopqrstuvwxyz\":\n",
        "                newWord = word[:i] + c + word[i+1:]\n",
        "                if newWord in wordSet:\n",
        "                    wordSet.remove(newWord)\n",
        "                    queue.append((newWord, length + 1))\n",
        "    return 0\n",
        "\n",
        "#Example\n",
        "print(word_ladder(\"hit\", \"cog\", [\"hot\",\"dot\",\"dog\",\"lot\",\"log\",\"cog\"]))"
      ],
      "metadata": {
        "colab": {
          "base_uri": "https://localhost:8080/"
        },
        "id": "qgTfownbN8Uh",
        "outputId": "5e10b53c-8a89-4adf-aad7-9cba90a33641"
      },
      "execution_count": 13,
      "outputs": [
        {
          "output_type": "stream",
          "name": "stdout",
          "text": [
            "5\n"
          ]
        }
      ]
    }
  ]
}