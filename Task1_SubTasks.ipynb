{
  "nbformat": 4,
  "nbformat_minor": 0,
  "metadata": {
    "colab": {
      "provenance": [],
      "authorship_tag": "ABX9TyOQjJ7uXRJAmY3F3AH+P4Ev",
      "include_colab_link": true
    },
    "kernelspec": {
      "name": "python3",
      "display_name": "Python 3"
    },
    "language_info": {
      "name": "python"
    }
  },
  "cells": [
    {
      "cell_type": "markdown",
      "metadata": {
        "id": "view-in-github",
        "colab_type": "text"
      },
      "source": [
        "<a href=\"https://colab.research.google.com/github/saxena-693/Mainflow-Internship_Tasks/blob/main/Task1_SubTasks.ipynb\" target=\"_parent\"><img src=\"https://colab.research.google.com/assets/colab-badge.svg\" alt=\"Open In Colab\"/></a>"
      ]
    },
    {
      "cell_type": "code",
      "execution_count": null,
      "metadata": {
        "colab": {
          "base_uri": "https://localhost:8080/"
        },
        "id": "0MR98dz-jHnv",
        "outputId": "96538696-0b2f-451b-e5a0-751428fb14aa"
      },
      "outputs": [
        {
          "output_type": "stream",
          "name": "stdout",
          "text": [
            "Enter First Number: 241\n",
            "Enter Second Number: 432\n",
            "Sum : 673\n"
          ]
        }
      ],
      "source": [
        "#Task 1: The sum of Two Numbers\n",
        "#Objective: Write a program to calculate the sum of two numbers\n",
        "\n",
        "#Code :-\n",
        "a = int(input(\"Enter First Number: \"))\n",
        "b = int(input(\"Enter Second Number: \"))\n",
        "print(\"Sum :\", a + b)"
      ]
    },
    {
      "cell_type": "code",
      "source": [
        "#Task 2: Odd or Even\n",
        "#Objective: Determine whether a number is odd or even\n",
        "\n",
        "#Code :-\n",
        "num = int(input(\"Enter a Number :\"))\n",
        "if num % 2 == 0:\n",
        "    print(\"Even\")\n",
        "else:\n",
        "    print(\"Odd\")"
      ],
      "metadata": {
        "colab": {
          "base_uri": "https://localhost:8080/"
        },
        "id": "fDFL9gqJkRI2",
        "outputId": "2c029963-8ccb-41b5-f46d-438f8368ea14"
      },
      "execution_count": null,
      "outputs": [
        {
          "output_type": "stream",
          "name": "stdout",
          "text": [
            "Enter a Number :28\n",
            "Even\n"
          ]
        }
      ]
    },
    {
      "cell_type": "code",
      "source": [
        "#Task 3: Factorial Calculation\n",
        "#Objective: Compute the factorial of a given number nnn (i.e., n!=n×(n−1)×⋯×1n! = n\\times (n-1) \\times \\dots \\times 1n!=n×(n−1)×⋯×1)\n",
        "\n",
        "#Code :-\n",
        "n = int(input(\"Enter a Number: \"))\n",
        "factorial = 1\n",
        "for i in range(1, n + 1):\n",
        "    factorial *= i\n",
        "print(\"Factorial:\", factorial)"
      ],
      "metadata": {
        "colab": {
          "base_uri": "https://localhost:8080/"
        },
        "id": "DxLWSbh3koTg",
        "outputId": "c802c33a-eb6a-4a28-9f4f-572d8ca6d702"
      },
      "execution_count": null,
      "outputs": [
        {
          "output_type": "stream",
          "name": "stdout",
          "text": [
            "Enter a Number: 5\n",
            "Factorial: 120\n"
          ]
        }
      ]
    },
    {
      "cell_type": "code",
      "source": [
        "#Task 4: Fibonacci Sequence\n",
        "#Objective: Generate the first nnn numbers in the Fibonacci sequence (e.g., 0, 1, 1, 2, 3,5, ...).\n",
        "\n",
        "#Code :-\n",
        "n = int(input(\"Enter number of terms: \"))\n",
        "fib = [0, 1]\n",
        "for i in range(2, n):\n",
        "    fib.append(fib[i - 1] + fib[i - 2])\n",
        "print(\"Fibonacci Sequence:\", fib[:n])"
      ],
      "metadata": {
        "colab": {
          "base_uri": "https://localhost:8080/"
        },
        "id": "EM-SIvgHlB9m",
        "outputId": "ee88a0b2-de39-4d29-b262-54b289f88f60"
      },
      "execution_count": null,
      "outputs": [
        {
          "output_type": "stream",
          "name": "stdout",
          "text": [
            "Enter number of terms: 12\n",
            "Fibonacci Sequence: [0, 1, 1, 2, 3, 5, 8, 13, 21, 34, 55, 89]\n"
          ]
        }
      ]
    },
    {
      "cell_type": "code",
      "source": [
        "#Task 5: Reverse a String\n",
        "#Objective: Reverse the characters in a string\n",
        "\n",
        "#Code :-\n",
        "s = input(\"Enter a string: \")\n",
        "print(\"Reversed:\", s[::-1])"
      ],
      "metadata": {
        "colab": {
          "base_uri": "https://localhost:8080/"
        },
        "id": "9uz2_Uy3lYY1",
        "outputId": "4a8ad3b8-220d-4ddd-e9bd-5e5c77b2bc54"
      },
      "execution_count": null,
      "outputs": [
        {
          "output_type": "stream",
          "name": "stdout",
          "text": [
            "Enter a string: HelloWorld\n",
            "Reversed: dlroWolleH\n"
          ]
        }
      ]
    },
    {
      "cell_type": "code",
      "source": [
        "#Task 6: Palindrome Check\n",
        "#Objective: Check if a string reads the same backward as forward.\n",
        "\n",
        "#Code :-\n",
        "s = input(\"Enter a string: \")\n",
        "print(\"Palindrome:\", s == s[::-1])"
      ],
      "metadata": {
        "colab": {
          "base_uri": "https://localhost:8080/"
        },
        "id": "A799kblwllSZ",
        "outputId": "079691c4-a210-47cb-e8ab-eca84f32f10b"
      },
      "execution_count": null,
      "outputs": [
        {
          "output_type": "stream",
          "name": "stdout",
          "text": [
            "Enter a string: mom\n",
            "Palindrome: True\n"
          ]
        }
      ]
    },
    {
      "cell_type": "code",
      "source": [
        "#Task 7: Leap Year Check\n",
        "#Objective: Determine whether a year is a leap year.\n",
        "\n",
        "#Code :-\n",
        "year = int(input(\"Enter an Year:\"))\n",
        "is_leap = (year % 4 == 0 and year % 100 != 0) or (year % 400 == 0)\n",
        "print(\"Leap Year:\", is_leap)"
      ],
      "metadata": {
        "colab": {
          "base_uri": "https://localhost:8080/"
        },
        "id": "YyW4S0A-l0hU",
        "outputId": "246def26-7189-48f8-e2fc-8f36160d066f"
      },
      "execution_count": null,
      "outputs": [
        {
          "output_type": "stream",
          "name": "stdout",
          "text": [
            "Enter an Year:2020\n",
            "Leap Year: True\n"
          ]
        }
      ]
    },
    {
      "cell_type": "code",
      "source": [
        "#Task 8: Armstrong Number\n",
        "#Objective: Check if a number equals the sum of its digits raised to the power of the number of digits.\n",
        "\n",
        "#Code :-\n",
        "num = int(input(\"Enter a Number: \"))\n",
        "power = len(str(num))\n",
        "total = sum(int(digit) ** power for digit in str(num))\n",
        "print(\"Armstrong Number:\", num == total)"
      ],
      "metadata": {
        "colab": {
          "base_uri": "https://localhost:8080/"
        },
        "id": "EW9WWCvHmN1B",
        "outputId": "2bde5f38-412b-4977-9356-a5ae15de23f8"
      },
      "execution_count": null,
      "outputs": [
        {
          "output_type": "stream",
          "name": "stdout",
          "text": [
            "Enter a Number: 153\n",
            "Armstrong Number: True\n"
          ]
        }
      ]
    }
  ]
}