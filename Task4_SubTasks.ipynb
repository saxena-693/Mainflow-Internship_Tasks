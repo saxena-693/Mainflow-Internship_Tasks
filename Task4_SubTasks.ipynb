{
  "nbformat": 4,
  "nbformat_minor": 0,
  "metadata": {
    "colab": {
      "provenance": []
    },
    "kernelspec": {
      "name": "python3",
      "display_name": "Python 3"
    },
    "language_info": {
      "name": "python"
    }
  },
  "cells": [
    {
      "cell_type": "code",
      "execution_count": 2,
      "metadata": {
        "colab": {
          "base_uri": "https://localhost:8080/"
        },
        "id": "TpjXXVqpFkvX",
        "outputId": "33db8df2-d65b-49f9-be3d-309d0b85d3cd"
      },
      "outputs": [
        {
          "output_type": "stream",
          "name": "stdout",
          "text": [
            "3\n"
          ]
        }
      ],
      "source": [
        "#Task 25: Find Missing Number\n",
        "#Objective: Find the missing number in an array of size n, containing numbers 1 to n+1.\n",
        "\n",
        "#Code:-\n",
        "def find_missing_number(arr):\n",
        "    n = len(arr) + 1\n",
        "    total_sum = n * (n + 1) // 2\n",
        "    return total_sum - sum(arr)\n",
        "\n",
        "#Example\n",
        "print(find_missing_number([1, 2, 4, 5]))\n"
      ]
    },
    {
      "cell_type": "code",
      "source": [
        "#Task 26: Check Balanced Parentheses\n",
        "#Objective: Check if a string of parentheses ((), {}, []) is balanced.\n",
        "\n",
        "#Code:-\n",
        "def is_balanced(s):\n",
        "    stack = []\n",
        "    mapping = {')': '(', '}': '{', ']': '['}\n",
        "    for char in s:\n",
        "        if char in mapping.values():\n",
        "            stack.append(char)\n",
        "        elif char in mapping:\n",
        "            if not stack or stack.pop() != mapping[char]:\n",
        "                return False\n",
        "    return not stack\n",
        "\n",
        "#Example\n",
        "print(is_balanced(\"{[()]}\"))\n",
        "print(is_balanced(\"{[(])}\"))"
      ],
      "metadata": {
        "colab": {
          "base_uri": "https://localhost:8080/"
        },
        "id": "VQP-_ojYGgGB",
        "outputId": "5f759b97-8af2-4324-8328-174e1c87b075"
      },
      "execution_count": 4,
      "outputs": [
        {
          "output_type": "stream",
          "name": "stdout",
          "text": [
            "True\n",
            "False\n"
          ]
        }
      ]
    },
    {
      "cell_type": "code",
      "source": [
        "#Task 27: Longest Word in a Sentence\n",
        "#Objective: Find the longest word in a given sentence.\n",
        "\n",
        "#Code:-\n",
        "def longest_word(sentence):\n",
        "    words = sentence.split()\n",
        "    return max(words, key=len)\n",
        "\n",
        "#Example\n",
        "print(longest_word(\"Python is a programming language\"))"
      ],
      "metadata": {
        "colab": {
          "base_uri": "https://localhost:8080/"
        },
        "id": "dr6rNSjlGo5X",
        "outputId": "279e6924-432d-4baf-a16a-d21b1355bf35"
      },
      "execution_count": 6,
      "outputs": [
        {
          "output_type": "stream",
          "name": "stdout",
          "text": [
            "programming\n"
          ]
        }
      ]
    },
    {
      "cell_type": "code",
      "source": [
        "#Task 28: Count Words in a Sentence\n",
        "#Objective: Count the number of words in a sentence.\n",
        "\n",
        "#Code:-\n",
        "def word_count(sentence):\n",
        "    return len(sentence.split())\n",
        "\n",
        "#Example\n",
        "print(word_count(\"Python is fun to learn\"))"
      ],
      "metadata": {
        "colab": {
          "base_uri": "https://localhost:8080/"
        },
        "id": "ZJEpEEjeG94b",
        "outputId": "ee59fc86-a0ea-4e9d-c5a8-975b4cf210de"
      },
      "execution_count": 8,
      "outputs": [
        {
          "output_type": "stream",
          "name": "stdout",
          "text": [
            "5\n"
          ]
        }
      ]
    },
    {
      "cell_type": "code",
      "source": [
        "#Task 29: Check Pythagorean Triplet\n",
        "#Objective: Determine if three numbers form a Pythagorean triplet.\n",
        "\n",
        "#Code:-\n",
        "def is_pythagorean_triplet(a, b, c):\n",
        "    sides = sorted([a, b, c])\n",
        "    return sides[0]**2 + sides[1]**2 == sides[2]**2\n",
        "\n",
        "#Example\n",
        "print(is_pythagorean_triplet(3, 4, 5))"
      ],
      "metadata": {
        "colab": {
          "base_uri": "https://localhost:8080/"
        },
        "id": "-3aJytowHKm6",
        "outputId": "1f70334a-ca6a-494b-c852-efb8af175e99"
      },
      "execution_count": 9,
      "outputs": [
        {
          "output_type": "stream",
          "name": "stdout",
          "text": [
            "True\n"
          ]
        }
      ]
    },
    {
      "cell_type": "code",
      "source": [
        "#Task 30: Bubble Sort\n",
        "#Objective: Implement the bubble sort algorithm to sort a list of integers.\n",
        "\n",
        "#Code:-\n",
        "def bubble_sort(arr):\n",
        "    n = len(arr)\n",
        "    for i in range(n):\n",
        "        for j in range(0, n-i-1):\n",
        "            if arr[j] > arr[j+1]:\n",
        "                arr[j], arr[j+1] = arr[j+1], arr[j]\n",
        "    return arr\n",
        "\n",
        "#Example\n",
        "print(bubble_sort([64, 34, 25, 12, 22, 11, 90]))"
      ],
      "metadata": {
        "colab": {
          "base_uri": "https://localhost:8080/"
        },
        "id": "4awmrebBHUFW",
        "outputId": "eeb1e66c-0fe6-47b0-ec12-4c45ff4563fb"
      },
      "execution_count": 10,
      "outputs": [
        {
          "output_type": "stream",
          "name": "stdout",
          "text": [
            "[11, 12, 22, 25, 34, 64, 90]\n"
          ]
        }
      ]
    },
    {
      "cell_type": "code",
      "source": [
        "#Task 31: Binary Search\n",
        "#Objective: Implement the binary search algorithm to find a target in a sorted array.\n",
        "\n",
        "#Code:-\n",
        "def binary_search(arr, target):\n",
        "    left, right = 0, len(arr)-1\n",
        "    while left <= right:\n",
        "        mid = (left + right) // 2\n",
        "        if arr[mid] == target:\n",
        "            return mid\n",
        "        elif arr[mid] < target:\n",
        "            left = mid + 1\n",
        "        else:\n",
        "            right = mid - 1\n",
        "    return -1\n",
        "\n",
        "#Example\n",
        "print(binary_search([1, 2, 3, 4, 5, 6], 4))"
      ],
      "metadata": {
        "colab": {
          "base_uri": "https://localhost:8080/"
        },
        "id": "eKyCLWBTHbFX",
        "outputId": "24653c50-3940-481d-ff88-c1e457cac79e"
      },
      "execution_count": 11,
      "outputs": [
        {
          "output_type": "stream",
          "name": "stdout",
          "text": [
            "3\n"
          ]
        }
      ]
    },
    {
      "cell_type": "code",
      "source": [
        "#Task 32: Find Subarray with Given Sum\n",
        "#Objective: Find a contiguous subarray whose sum equals a given value S.\n",
        "\n",
        "#Code:-\n",
        "def subarray_with_sum(arr, target):\n",
        "    curr_sum = 0\n",
        "    left = 0\n",
        "    for right in range(len(arr)):\n",
        "        curr_sum += arr[right]\n",
        "        while curr_sum > target:\n",
        "            curr_sum -= arr[left]\n",
        "            left += 1\n",
        "        if curr_sum == target:\n",
        "            return (left, right)\n",
        "    return -1\n",
        "\n",
        "#Example\n",
        "print(subarray_with_sum([1, 2, 3, 7, 5], 12))"
      ],
      "metadata": {
        "colab": {
          "base_uri": "https://localhost:8080/"
        },
        "id": "zlcX_dTpHi60",
        "outputId": "d1e9d877-2cb0-47cb-fdf3-d25360562b11"
      },
      "execution_count": 12,
      "outputs": [
        {
          "output_type": "stream",
          "name": "stdout",
          "text": [
            "(1, 3)\n"
          ]
        }
      ]
    }
  ]
}