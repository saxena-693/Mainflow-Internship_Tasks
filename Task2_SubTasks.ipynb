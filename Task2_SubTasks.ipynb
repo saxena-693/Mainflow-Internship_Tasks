{
  "nbformat": 4,
  "nbformat_minor": 0,
  "metadata": {
    "colab": {
      "provenance": []
    },
    "kernelspec": {
      "name": "python3",
      "display_name": "Python 3"
    },
    "language_info": {
      "name": "python"
    }
  },
  "cells": [
    {
      "cell_type": "code",
      "execution_count": 3,
      "metadata": {
        "colab": {
          "base_uri": "https://localhost:8080/"
        },
        "id": "2b1sff9WfkA-",
        "outputId": "4c67061c-2c14-4572-9f44-09a3be37c252"
      },
      "outputs": [
        {
          "output_type": "stream",
          "name": "stdout",
          "text": [
            "Enter a number: 17\n",
            "Prime\n"
          ]
        }
      ],
      "source": [
        "#Task 9: Prime Number\n",
        "#Objective: Determine if a number is prime.\n",
        "\n",
        "#Code :-\n",
        "def prime(n):\n",
        "    if n < 2:\n",
        "        return False\n",
        "    for i in range(2, int(n**0.5)+1):\n",
        "        if n % i == 0:\n",
        "            return False\n",
        "    return True\n",
        "\n",
        "num = int(input(\"Enter a number: \"))\n",
        "print(\"Prime\" if prime(num) else \"Not Prime\")"
      ]
    },
    {
      "cell_type": "code",
      "source": [
        "#Task 10: Sum of Digits\n",
        "#Objective: Find the sum of the digits in a number.\n",
        "\n",
        "#Code :-\n",
        "def sum_of_digits(n):\n",
        "    return sum(int(d) for d in str(abs(n)))\n",
        "\n",
        "num = int(input(\"\\nEnter a number: \"))\n",
        "print(f\"Sum of digits: {sum_of_digits(num)}\")"
      ],
      "metadata": {
        "colab": {
          "base_uri": "https://localhost:8080/"
        },
        "id": "sSvuwS8Kf7lt",
        "outputId": "2ee71729-14b5-4fcd-ef62-5d61df582a77"
      },
      "execution_count": 4,
      "outputs": [
        {
          "output_type": "stream",
          "name": "stdout",
          "text": [
            "\n",
            "Enter a number: 123\n",
            "Sum of digits: 6\n"
          ]
        }
      ]
    },
    {
      "cell_type": "code",
      "source": [
        "#Task 11: LCM and GCD\n",
        "#Objective: Calculate the Least Common Multiple (LCM) and Greatest Common Divisor (GCD) of two integers.\n",
        "\n",
        "#Code :-\n",
        "import math\n",
        "\n",
        "def gcd(a, b):\n",
        "    return math.gcd(a, b)\n",
        "\n",
        "def lcm(a, b):\n",
        "    return abs(a * b) // gcd(a, b)\n",
        "\n",
        "a = int(input(\"Enter first number: \"))\n",
        "b = int(input(\"Enter second number: \"))\n",
        "print(f\"GCD: {gcd(a, b)}\")\n",
        "print(f\"LCM: {lcm(a, b)}\")"
      ],
      "metadata": {
        "colab": {
          "base_uri": "https://localhost:8080/"
        },
        "id": "L8eqM1NzgwA7",
        "outputId": "ea872a44-44d9-4f13-f716-774a7bc487bd"
      },
      "execution_count": 6,
      "outputs": [
        {
          "output_type": "stream",
          "name": "stdout",
          "text": [
            "Enter first number: 24\n",
            "Enter second number: 36\n",
            "GCD: 12\n",
            "LCM: 72\n"
          ]
        }
      ]
    },
    {
      "cell_type": "code",
      "source": [
        "#Task 12: List Reversal\n",
        "#Objective: Reverse a given list without using built-in functions.\n",
        "\n",
        "#Code :-\n",
        "def reverse(lst):\n",
        "    reversed_lst = []\n",
        "    for i in range(len(lst)-1, -1, -1):\n",
        "        reversed_lst.append(lst[i])\n",
        "    return reversed_lst\n",
        "\n",
        "lst_input = input(\"\\nEnter list elements: \").split()\n",
        "lst = [int(x) for x in lst_input]\n",
        "print(f\"Reversed List: {reverse(lst)}\")"
      ],
      "metadata": {
        "colab": {
          "base_uri": "https://localhost:8080/"
        },
        "id": "OyWLkfjwgxig",
        "outputId": "e54711f3-b2d4-40d2-aa04-61f270fdec39"
      },
      "execution_count": 7,
      "outputs": [
        {
          "output_type": "stream",
          "name": "stdout",
          "text": [
            "\n",
            "Enter list elements: 23 56 14 32 7 8\n",
            "Reversed List: [8, 7, 32, 14, 56, 23]\n"
          ]
        }
      ]
    },
    {
      "cell_type": "code",
      "source": [
        "#Task 13: Sort a List\n",
        "#Objective: Sort a list of numbers in ascending order.\n",
        "\n",
        "#Code :-\n",
        "def bubble_sort(lst):\n",
        "    n = len(lst)\n",
        "    for i in range(n):\n",
        "        for j in range(0, n-i-1):\n",
        "            if lst[j] > lst[j+1]:\n",
        "                lst[j], lst[j+1] = lst[j+1], lst[j]\n",
        "    return lst\n",
        "\n",
        "lst_input = input(\"\\nEnter list elements to sort: \").split()\n",
        "lst = [int(x) for x in lst_input]\n",
        "print(f\"Sorted List: {bubble_sort(lst)}\")"
      ],
      "metadata": {
        "colab": {
          "base_uri": "https://localhost:8080/"
        },
        "id": "97QO9AMEgzEl",
        "outputId": "7c212f31-8c18-4408-e558-7b8cc7e8b652"
      },
      "execution_count": 8,
      "outputs": [
        {
          "output_type": "stream",
          "name": "stdout",
          "text": [
            "\n",
            "Enter list elements to sort: 23 45 82 65 16 2 76\n",
            "Sorted List: [2, 16, 23, 45, 65, 76, 82]\n"
          ]
        }
      ]
    },
    {
      "cell_type": "code",
      "source": [
        "#Task 14: Remove Duplicates\n",
        "#Objective: Remove duplicate elements from a list\n",
        "\n",
        "#Code :-\n",
        "def remove_duplicates(lst):\n",
        "    seen = []\n",
        "    for item in lst:\n",
        "        if item not in seen:\n",
        "            seen.append(item)\n",
        "    return seen\n",
        "\n",
        "lst_input = input(\"\\nEnter list with duplicates: \").split()\n",
        "lst = [int(x) for x in lst_input]\n",
        "print(f\"List after removing duplicates: {remove_duplicates(lst)}\")"
      ],
      "metadata": {
        "colab": {
          "base_uri": "https://localhost:8080/"
        },
        "id": "pT3wSsl1g1Gt",
        "outputId": "06f3694c-57a8-40e8-cce0-4e7d65262e5d"
      },
      "execution_count": 10,
      "outputs": [
        {
          "output_type": "stream",
          "name": "stdout",
          "text": [
            "\n",
            "Enter list with duplicates: 34 22 22 56 42 34 67 27\n",
            "List after removing duplicates: [34, 22, 56, 42, 67, 27]\n"
          ]
        }
      ]
    },
    {
      "cell_type": "code",
      "source": [
        "#Task 15: String Length\n",
        "#Objective: Find the length of a string without using the len() function.\n",
        "\n",
        "#Code :-\n",
        "def string_length(s):\n",
        "    count = 0\n",
        "    for _ in s:\n",
        "        count += 1\n",
        "    return count\n",
        "\n",
        "s = input(\"\\nEnter a string: \")\n",
        "print(f\"Length of string: {string_length(s)}\")"
      ],
      "metadata": {
        "colab": {
          "base_uri": "https://localhost:8080/"
        },
        "id": "t0_kW3_qg3bU",
        "outputId": "3dd8977b-cc4c-4224-cfc2-6849f7ed4d2a"
      },
      "execution_count": 12,
      "outputs": [
        {
          "output_type": "stream",
          "name": "stdout",
          "text": [
            "\n",
            "Enter a string: Hello World\n",
            "Length of string: 11\n"
          ]
        }
      ]
    },
    {
      "cell_type": "code",
      "source": [
        "#Task 16: Count Vowels and Consonants\n",
        "#Objective: Count the number of vowels and consonants in a string.\n",
        "\n",
        "\n",
        "#Code :-\n",
        "def count_vowels_consonants(s):\n",
        "    vowels = 'aeiouAEIOU'\n",
        "    v_count = 0\n",
        "    c_count = 0\n",
        "    for char in s:\n",
        "        if char.isalpha():\n",
        "            if char in vowels:\n",
        "                v_count += 1\n",
        "            else:\n",
        "                c_count += 1\n",
        "    return v_count, c_count\n",
        "\n",
        "s = input(\"\\nEnter a string: \")\n",
        "v, c = count_vowels_consonants(s)\n",
        "print(f\"Vowels: {v}, Consonants: {c}\")"
      ],
      "metadata": {
        "colab": {
          "base_uri": "https://localhost:8080/"
        },
        "id": "Vck6LTkUg71O",
        "outputId": "8de51798-dbf6-4881-d8db-fe198a2577eb"
      },
      "execution_count": 13,
      "outputs": [
        {
          "output_type": "stream",
          "name": "stdout",
          "text": [
            "\n",
            "Enter a string: Hello World\n",
            "Vowels: 3, Consonants: 7\n"
          ]
        }
      ]
    }
  ]
}