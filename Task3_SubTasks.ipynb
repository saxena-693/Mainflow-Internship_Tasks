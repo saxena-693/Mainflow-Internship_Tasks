{
  "nbformat": 4,
  "nbformat_minor": 0,
  "metadata": {
    "colab": {
      "provenance": []
    },
    "kernelspec": {
      "name": "python3",
      "display_name": "Python 3"
    },
    "language_info": {
      "name": "python"
    }
  },
  "cells": [
    {
      "cell_type": "code",
      "execution_count": 1,
      "metadata": {
        "colab": {
          "base_uri": "https://localhost:8080/"
        },
        "id": "tkuM06SgnmMq",
        "outputId": "a210a3eb-67f7-45b8-9786-1a14f8b6c488"
      },
      "outputs": [
        {
          "output_type": "stream",
          "name": "stdout",
          "text": [
            "Enter a number :5\n",
            "5 x 1 = 5\n",
            "5 x 2 = 10\n",
            "5 x 3 = 15\n",
            "5 x 4 = 20\n",
            "5 x 5 = 25\n",
            "5 x 6 = 30\n",
            "5 x 7 = 35\n",
            "5 x 8 = 40\n",
            "5 x 9 = 45\n",
            "5 x 10 = 50\n"
          ]
        }
      ],
      "source": [
        "#Task 17 : Table of a Number.\n",
        "#Objective: Print the multiplication table for a given number nnn.\n",
        "\n",
        "#Code :-\n",
        "n = int(input(\"Enter a number :\"))\n",
        "for i in range(1, 11):\n",
        "    print(f\"{n} x {i} = {n*i}\")"
      ]
    },
    {
      "cell_type": "code",
      "source": [
        "#Task 18 : Swap Two Numbers.\n",
        "#Objective : Swap two numbers without using a third variable.\n",
        "\n",
        "#Code :-\n",
        "a = int(input(\"\\nEnter First number: \"))\n",
        "b = int(input(\"Enter Second number: \"))\n",
        "a, b = b, a\n",
        "print(\"After swapping: a =\", a, \", b =\", b)"
      ],
      "metadata": {
        "colab": {
          "base_uri": "https://localhost:8080/"
        },
        "id": "20b1JKPaoAQQ",
        "outputId": "60561913-62d7-40f9-c95a-026dc3328b8f"
      },
      "execution_count": 2,
      "outputs": [
        {
          "output_type": "stream",
          "name": "stdout",
          "text": [
            "\n",
            "Enter First number: 23\n",
            "Enter Second number: 65\n",
            "After swapping: a = 65 , b = 23\n"
          ]
        }
      ]
    },
    {
      "cell_type": "code",
      "source": [
        "#Task 19 : Check Substring.\n",
        "#Objective : Determine if one string is a substring of another.\n",
        "\n",
        "#Code :-\n",
        "str1 = input(\"\\nEnter the Main String: \")\n",
        "str2 = input(\"Enter the Substring: \")\n",
        "print(\"Substring found?\" , str2 in str1)"
      ],
      "metadata": {
        "colab": {
          "base_uri": "https://localhost:8080/"
        },
        "id": "kuqPFqN-oazu",
        "outputId": "a69808fe-2eb1-4cd5-a3ce-d17c7f9646b7"
      },
      "execution_count": 3,
      "outputs": [
        {
          "output_type": "stream",
          "name": "stdout",
          "text": [
            "\n",
            "Enter the Main String: HelloWorld\n",
            "Enter the Substring: World\n",
            "Substring found? True\n"
          ]
        }
      ]
    },
    {
      "cell_type": "code",
      "source": [
        "#Task 20 : Decimal to Binary.\n",
        "#Objective : Convert a decimal number to its binary representation.\n",
        "\n",
        "#Code  :-\n",
        "n = int(input(\"Enter a Decimal Number : \"))\n",
        "binary = bin(n)[2:]  #slicing\n",
        "print(\"Binary Equivalent :\", binary)"
      ],
      "metadata": {
        "colab": {
          "base_uri": "https://localhost:8080/"
        },
        "id": "vpOQP8_9o5x3",
        "outputId": "af44f0fa-0e06-4e98-f962-52360ca1110e"
      },
      "execution_count": 4,
      "outputs": [
        {
          "output_type": "stream",
          "name": "stdout",
          "text": [
            "Enter a Decimal Number : 4\n",
            "Binary Equivalent : 100\n"
          ]
        }
      ]
    },
    {
      "cell_type": "code",
      "source": [
        "#Task 21 : Matrix Addition.\n",
        "#Objective : Add two matrices of the same dimensions.\n",
        "\n",
        "#Code :-\n",
        "A = [[6, 2], [3, 2]]\n",
        "B = [[8, 4], [7, 1]]\n",
        "result = [[A[i][j] + B[i][j] for j in range(len(A[0]))] for i in range(len(A))]\n",
        "print(\"\\nMatrix Addition Result :\", result)"
      ],
      "metadata": {
        "colab": {
          "base_uri": "https://localhost:8080/"
        },
        "id": "n145PRVjpWz1",
        "outputId": "e2e1f2ca-ddff-4f6e-c154-bd72d28a66fb"
      },
      "execution_count": 6,
      "outputs": [
        {
          "output_type": "stream",
          "name": "stdout",
          "text": [
            "\n",
            "Matrix Addition Result : [[14, 6], [10, 3]]\n"
          ]
        }
      ]
    },
    {
      "cell_type": "code",
      "source": [
        "#Task 22 : Matrix Multiplication.\n",
        "#Objective : Multiply two matrices A and B.\n",
        "\n",
        "#Code :-\n",
        "A = [[6, 2], [3, 2]]\n",
        "B = [[8, 4], [7, 1]]\n",
        "rows_A, cols_A = len(A), len(A[0])\n",
        "rows_B, cols_B = len(B), len(B[0])\n",
        "result = [[0]*cols_B for _ in range(rows_A)]\n",
        "for i in range(rows_A):\n",
        "    for j in range(cols_B):\n",
        "        for k in range(cols_A):\n",
        "            result[i][j] += A[i][k] * B[k][j]\n",
        "print(\"\\nMatrix Multiplication Result : \", result)"
      ],
      "metadata": {
        "colab": {
          "base_uri": "https://localhost:8080/"
        },
        "id": "ATAARaMSpkbo",
        "outputId": "c6b19dbc-a15b-4f99-cb88-64717113652e"
      },
      "execution_count": 7,
      "outputs": [
        {
          "output_type": "stream",
          "name": "stdout",
          "text": [
            "\n",
            "Matrix Multiplication Result :  [[62, 26], [38, 14]]\n"
          ]
        }
      ]
    },
    {
      "cell_type": "code",
      "source": [
        "#Task 23 : Find Second Largest.\n",
        "#Objective : Find the second largest number in a list.\n",
        "\n",
        "#Code :-\n",
        "nums = [10, 20, 4, 45, 99]\n",
        "nums_sorted = sorted(set(nums))\n",
        "if len(nums_sorted) >= 2:\n",
        "    print(\"\\nSecond Largest : \", nums_sorted[-2])\n",
        "else:\n",
        "    print(\"\\nNot enough unique numbers\")"
      ],
      "metadata": {
        "colab": {
          "base_uri": "https://localhost:8080/"
        },
        "id": "YRFNgezJqDqb",
        "outputId": "d098a1b7-cf11-4f4e-cfa0-99ea5658905b"
      },
      "execution_count": 8,
      "outputs": [
        {
          "output_type": "stream",
          "name": "stdout",
          "text": [
            "\n",
            "Second Largest :  45\n"
          ]
        }
      ]
    },
    {
      "cell_type": "code",
      "source": [
        "#Task 24 : Check Anagram.\n",
        "#Objective : Check if two strings are anagrams (contain the same characters in any order).\n",
        "\n",
        "#Code :-\n",
        "str1 = input(\"\\nEnter First String: \")\n",
        "str2 = input(\"Enter Second String: \")\n",
        "print(\"Anagram?\" , sorted(str1) == sorted(str2))"
      ],
      "metadata": {
        "colab": {
          "base_uri": "https://localhost:8080/"
        },
        "id": "-yx1OmaTqrnJ",
        "outputId": "14d90dfd-4abd-478d-870c-ec4dc4ccfc84"
      },
      "execution_count": 12,
      "outputs": [
        {
          "output_type": "stream",
          "name": "stdout",
          "text": [
            "\n",
            "Enter First String: rasp\n",
            "Enter Second String: spar\n",
            "Anagram? True\n"
          ]
        }
      ]
    }
  ]
}