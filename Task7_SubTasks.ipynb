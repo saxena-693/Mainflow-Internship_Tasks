{
  "nbformat": 4,
  "nbformat_minor": 0,
  "metadata": {
    "colab": {
      "provenance": []
    },
    "kernelspec": {
      "name": "python3",
      "display_name": "Python 3"
    },
    "language_info": {
      "name": "python"
    }
  },
  "cells": [
    {
      "cell_type": "code",
      "execution_count": 1,
      "metadata": {
        "colab": {
          "base_uri": "https://localhost:8080/"
        },
        "id": "QqXUJu8T7R4d",
        "outputId": "550a3f07-9bc9-46b9-abd4-7d932cc50006"
      },
      "outputs": [
        {
          "output_type": "stream",
          "name": "stdout",
          "text": [
            "Inversion Count: 3\n"
          ]
        }
      ],
      "source": [
        "#Task 47: Count Inversions\n",
        "#Objective: Count the number of inversions in an array, where an inversion is when a[i] > a[j] for i < j.\n",
        "\n",
        "#Code:-\n",
        "def merge_sort(arr):\n",
        "    if len(arr) <= 1:\n",
        "        return arr, 0\n",
        "    mid = len(arr) // 2\n",
        "    left, inv_left = merge_sort(arr[:mid])\n",
        "    right, inv_right = merge_sort(arr[mid:])\n",
        "    merged, inv_split = merge(left, right)\n",
        "    return merged, inv_left + inv_right + inv_split\n",
        "\n",
        "def merge(left, right):\n",
        "    i = j = inv_count = 0\n",
        "    merged = []\n",
        "    while i < len(left) and j < len(right):\n",
        "        if left[i] <= right[j]:\n",
        "            merged.append(left[i]); i += 1\n",
        "        else:\n",
        "            merged.append(right[j]); j += 1\n",
        "            inv_count += len(left) - i\n",
        "    merged.extend(left[i:])\n",
        "    merged.extend(right[j:])\n",
        "    return merged, inv_count\n",
        "\n",
        "arr = [2, 4, 1, 3, 5]\n",
        "_, inv_count = merge_sort(arr)\n",
        "print(\"Inversion Count:\", inv_count)"
      ]
    },
    {
      "cell_type": "code",
      "source": [
        "#Task 48: Find the Longest Palindromic Substring\n",
        "#Objective: Find the longest palindromic substring in a given string.\n",
        "\n",
        "#Code:-\n",
        "def longest_palindrome(s):\n",
        "    def expand(l, r):\n",
        "        while l >= 0 and r < len(s) and s[l] == s[r]:\n",
        "            l -= 1; r += 1\n",
        "        return s[l+1:r]\n",
        "\n",
        "    longest = \"\"\n",
        "    for i in range(len(s)):\n",
        "        odd = expand(i, i)\n",
        "        even = expand(i, i+1)\n",
        "        longest = max(longest, odd, even, key=len)\n",
        "    return longest\n",
        "\n",
        "print(longest_palindrome(\"babad\"))"
      ],
      "metadata": {
        "colab": {
          "base_uri": "https://localhost:8080/"
        },
        "id": "rhEXCDmX7w8M",
        "outputId": "0b9048a6-dc2e-4c49-bf6e-5e4aa28b428b"
      },
      "execution_count": 2,
      "outputs": [
        {
          "output_type": "stream",
          "name": "stdout",
          "text": [
            "bab\n"
          ]
        }
      ]
    },
    {
      "cell_type": "code",
      "source": [
        "#Task 49: Traveling Salesman Problem (TSP)\n",
        "#Objective: Find the shortest possible route that visits each city once and returns to the origin city.\n",
        "\n",
        "#Code:-\n",
        "import itertools\n",
        "\n",
        "def tsp_bruteforce(graph, start=0):\n",
        "    n = len(graph)\n",
        "    vertices = list(range(n))\n",
        "    vertices.remove(start)\n",
        "    min_path = float(\"inf\")\n",
        "    best_route = []\n",
        "\n",
        "    for perm in itertools.permutations(vertices):\n",
        "        current_cost = 0\n",
        "        k = start\n",
        "        for j in perm:\n",
        "            current_cost += graph[k][j]\n",
        "            k = j\n",
        "        current_cost += graph[k][start]\n",
        "\n",
        "        if current_cost < min_path:\n",
        "            min_path = current_cost\n",
        "            best_route = [start] + list(perm) + [start]\n",
        "\n",
        "    return best_route, min_path\n",
        "\n",
        "graph = [[0, 10, 15, 20],\n",
        "         [10, 0, 35, 25],\n",
        "         [15, 35, 0, 30],\n",
        "         [20, 25, 30, 0]]\n",
        "\n",
        "print(tsp_bruteforce(graph))"
      ],
      "metadata": {
        "colab": {
          "base_uri": "https://localhost:8080/"
        },
        "id": "9GLBYmWU76oB",
        "outputId": "82ea7b46-f962-43a3-a463-8ce3c6d4cfe6"
      },
      "execution_count": 3,
      "outputs": [
        {
          "output_type": "stream",
          "name": "stdout",
          "text": [
            "([0, 1, 3, 2, 0], 80)\n"
          ]
        }
      ]
    },
    {
      "cell_type": "code",
      "source": [
        "#Task 50: Graph Cycle Detection\n",
        "#Objective: Detect whether a graph contains a cycle.\n",
        "\n",
        "#Code:-\n",
        "def has_cycle(graph):\n",
        "    visited = set()\n",
        "\n",
        "    def dfs(v, parent):\n",
        "        visited.add(v)\n",
        "        for neighbor in graph[v]:\n",
        "            if neighbor not in visited:\n",
        "                if dfs(neighbor, v): return True\n",
        "            elif parent != neighbor:\n",
        "                return True\n",
        "        return False\n",
        "\n",
        "    for node in graph:\n",
        "        if node not in visited:\n",
        "            if dfs(node, -1): return True\n",
        "    return False\n",
        "\n",
        "graph = {0: [1, 2], 1: [0, 2], 2: [0, 1, 3], 3: [2]}\n",
        "print(has_cycle(graph))"
      ],
      "metadata": {
        "colab": {
          "base_uri": "https://localhost:8080/"
        },
        "id": "p5mO0qq58DKt",
        "outputId": "06be4f6f-2b14-4890-f6b9-036921d930d1"
      },
      "execution_count": 4,
      "outputs": [
        {
          "output_type": "stream",
          "name": "stdout",
          "text": [
            "True\n"
          ]
        }
      ]
    },
    {
      "cell_type": "code",
      "source": [
        "#Task 51: Longest Substring Without Repeating Characters\n",
        "#Objective: Find the length of the longest substring without repeating characters.\n",
        "\n",
        "#Code:-\n",
        "def longest_unique_substring(s):\n",
        "    seen = {}\n",
        "    l = max_len = 0\n",
        "    for r, char in enumerate(s):\n",
        "        if char in seen and seen[char] >= l:\n",
        "            l = seen[char] + 1\n",
        "        seen[char] = r\n",
        "        max_len = max(max_len, r - l + 1)\n",
        "    return max_len\n",
        "\n",
        "print(longest_unique_substring(\"abcabcbb\"))"
      ],
      "metadata": {
        "colab": {
          "base_uri": "https://localhost:8080/"
        },
        "id": "A-Z-a9LI8Kxq",
        "outputId": "afb4fa71-606c-4635-ce75-baa89325103d"
      },
      "execution_count": 5,
      "outputs": [
        {
          "output_type": "stream",
          "name": "stdout",
          "text": [
            "3\n"
          ]
        }
      ]
    },
    {
      "cell_type": "code",
      "source": [
        "#Task 52: Find All Valid Parentheses Combinations\n",
        "#Objective: Generate all possible valid combinations of parentheses for a given n.\n",
        "\n",
        "#Code:-\n",
        "def generate_parentheses(n):\n",
        "    res = []\n",
        "    def backtrack(s, left, right):\n",
        "        if len(s) == 2 * n:\n",
        "            res.append(s)\n",
        "            return\n",
        "        if left < n:\n",
        "            backtrack(s + \"(\", left + 1, right)\n",
        "        if right < left:\n",
        "            backtrack(s + \")\", left, right + 1)\n",
        "    backtrack(\"\", 0, 0)\n",
        "    return res\n",
        "\n",
        "print(generate_parentheses(3))"
      ],
      "metadata": {
        "colab": {
          "base_uri": "https://localhost:8080/"
        },
        "id": "PhlM6NZD8Qt6",
        "outputId": "ff051578-6f72-4b3d-cc68-58fd613c8a0b"
      },
      "execution_count": 6,
      "outputs": [
        {
          "output_type": "stream",
          "name": "stdout",
          "text": [
            "['((()))', '(()())', '(())()', '()(())', '()()()']\n"
          ]
        }
      ]
    },
    {
      "cell_type": "code",
      "source": [
        "#Task 53: Zigzag Level Order Traversal of Binary Tree\n",
        "#Objective: Traverse a binary tree in zigzag level order.\n",
        "\n",
        "#Code:-\n",
        "from collections import deque\n",
        "\n",
        "class Node:\n",
        "    def __init__(self, val):\n",
        "        self.val = val\n",
        "        self.left = self.right = None\n",
        "\n",
        "def zigzag_traversal(root):\n",
        "    if not root: return []\n",
        "    result, q, left_to_right = [], deque([root]), True\n",
        "\n",
        "    while q:\n",
        "        level, size = [], len(q)\n",
        "        for _ in range(size):\n",
        "            node = q.popleft()\n",
        "            if left_to_right:\n",
        "                level.append(node.val)\n",
        "            else:\n",
        "                level.insert(0, node.val)\n",
        "            if node.left: q.append(node.left)\n",
        "            if node.right: q.append(node.right)\n",
        "        result.append(level)\n",
        "        left_to_right = not left_to_right\n",
        "    return result\n",
        "\n",
        "# Example usage:\n",
        "root = Node(1)\n",
        "root.left = Node(2)\n",
        "root.right = Node(3)\n",
        "root.left.left = Node(4)\n",
        "root.right.right = Node(5)\n",
        "\n",
        "print(zigzag_traversal(root))"
      ],
      "metadata": {
        "colab": {
          "base_uri": "https://localhost:8080/"
        },
        "id": "Mw7MaQOq8YWe",
        "outputId": "3ec07ab8-8ed3-4e4c-df86-37c5ed38c141"
      },
      "execution_count": 7,
      "outputs": [
        {
          "output_type": "stream",
          "name": "stdout",
          "text": [
            "[[1], [3, 2], [4, 5]]\n"
          ]
        }
      ]
    },
    {
      "cell_type": "code",
      "source": [
        "#Task 54: Palindrome Partitioning\n",
        "#Objective: Partition a string such that every substring is a palindrome.\n",
        "\n",
        "#Code:-\n",
        "def palindrome_partition(s):\n",
        "    res = []\n",
        "    def is_palindrome(sub): return sub == sub[::-1]\n",
        "\n",
        "    def backtrack(start, path):\n",
        "        if start == len(s):\n",
        "            res.append(path[:])\n",
        "            return\n",
        "        for end in range(start+1, len(s)+1):\n",
        "            if is_palindrome(s[start:end]):\n",
        "                backtrack(end, path + [s[start:end]])\n",
        "\n",
        "    backtrack(0, [])\n",
        "    return res\n",
        "\n",
        "print(palindrome_partition(\"aab\"))"
      ],
      "metadata": {
        "colab": {
          "base_uri": "https://localhost:8080/"
        },
        "id": "whOZaJMV8fVg",
        "outputId": "6846b839-80b5-49c8-8eee-88968f1de284"
      },
      "execution_count": 8,
      "outputs": [
        {
          "output_type": "stream",
          "name": "stdout",
          "text": [
            "[['a', 'a', 'b'], ['aa', 'b']]\n"
          ]
        }
      ]
    }
  ]
}