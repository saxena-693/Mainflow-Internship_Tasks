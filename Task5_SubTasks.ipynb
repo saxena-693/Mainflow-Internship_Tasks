{
  "nbformat": 4,
  "nbformat_minor": 0,
  "metadata": {
    "colab": {
      "provenance": []
    },
    "kernelspec": {
      "name": "python3",
      "display_name": "Python 3"
    },
    "language_info": {
      "name": "python"
    }
  },
  "cells": [
    {
      "cell_type": "code",
      "execution_count": 1,
      "metadata": {
        "colab": {
          "base_uri": "https://localhost:8080/"
        },
        "id": "hz6pSys8iLG-",
        "outputId": "6a0a3e40-5bf1-4ba6-cd89-0458e05670e8"
      },
      "outputs": [
        {
          "output_type": "stream",
          "name": "stdout",
          "text": [
            "['abc', 'acb', 'bac', 'bca', 'cab', 'cba']\n"
          ]
        }
      ],
      "source": [
        "#Task 33: Find All Permutations of a String\n",
        "#Objective: Generate all permutations of a given string.\n",
        "\n",
        "#Code:-\n",
        "from itertools import permutations\n",
        "\n",
        "def all_permutations(s):\n",
        "    return [''.join(p) for p in permutations(s)]\n",
        "\n",
        "#Example\n",
        "print(all_permutations(\"abc\"))"
      ]
    },
    {
      "cell_type": "code",
      "source": [
        "#Task 34: N-th Fibonacci Number (Dynamic Programming)\n",
        "#Objective: Find the n-th Fibonacci number using dynamic programming for efficiency.\n",
        "\n",
        "#Code:-\n",
        "def fibonacci(n):\n",
        "    if n <= 1:\n",
        "        return n\n",
        "    dp = [0] * (n+1)\n",
        "    dp[1] = 1\n",
        "    for i in range(2, n+1):\n",
        "        dp[i] = dp[i-1] + dp[i-2]\n",
        "    return dp[n]\n",
        "\n",
        "#Example\n",
        "print(fibonacci(10))"
      ],
      "metadata": {
        "colab": {
          "base_uri": "https://localhost:8080/"
        },
        "id": "h7p3KERDiekE",
        "outputId": "4495a751-102b-42d2-c1dd-acd20d6fe1b1"
      },
      "execution_count": 3,
      "outputs": [
        {
          "output_type": "stream",
          "name": "stdout",
          "text": [
            "55\n"
          ]
        }
      ]
    },
    {
      "cell_type": "code",
      "source": [
        "#Task 35: Find Duplicates in a List\n",
        "#Objective: Identify all duplicate elements in a list.\n",
        "\n",
        "#Code:-\n",
        "from collections import Counter\n",
        "\n",
        "def find_duplicates(arr):\n",
        "    count = Counter(arr)\n",
        "    return [item for item, freq in count.items() if freq > 1]\n",
        "\n",
        "#Example\n",
        "print(find_duplicates([1, 2, 3, 2, 4, 5, 1, 6]))"
      ],
      "metadata": {
        "colab": {
          "base_uri": "https://localhost:8080/"
        },
        "id": "yTSrIilSioTA",
        "outputId": "31002df7-1f68-464c-f47c-cd609b13a6c7"
      },
      "execution_count": 4,
      "outputs": [
        {
          "output_type": "stream",
          "name": "stdout",
          "text": [
            "[1, 2]\n"
          ]
        }
      ]
    },
    {
      "cell_type": "code",
      "source": [
        "#Task 36: Longest Increasing Subsequence (LIS)\n",
        "#Objective: Find the length of the longest increasing subsequence in an array.\n",
        "\n",
        "#Code:-\n",
        "def lis_length(arr):\n",
        "    n = len(arr)\n",
        "    lis = [1] * n\n",
        "    for i in range(1, n):\n",
        "        for j in range(i):\n",
        "            if arr[i] > arr[j]:\n",
        "                lis[i] = max(lis[i], lis[j] + 1)\n",
        "    return max(lis)\n",
        "\n",
        "#Example\n",
        "print(lis_length([10, 22, 9, 33, 21, 50, 41, 60]))\n"
      ],
      "metadata": {
        "colab": {
          "base_uri": "https://localhost:8080/"
        },
        "id": "nQvG84zuix10",
        "outputId": "0e223df9-ddac-4961-d949-8c1337f568d7"
      },
      "execution_count": 5,
      "outputs": [
        {
          "output_type": "stream",
          "name": "stdout",
          "text": [
            "5\n"
          ]
        }
      ]
    },
    {
      "cell_type": "code",
      "source": [
        "#Task 37: Find K Largest Elements\n",
        "#Objective: Find the k largest elements in a list.\n",
        "\n",
        "#Code:-\n",
        "import heapq\n",
        "\n",
        "def k_largest_elements(arr, k):\n",
        "    return heapq.nlargest(k, arr)\n",
        "\n",
        "#Example\n",
        "print(k_largest_elements([3, 1, 4, 1, 5, 9, 2, 6], 3))"
      ],
      "metadata": {
        "colab": {
          "base_uri": "https://localhost:8080/"
        },
        "id": "3FwzU2OHi4-z",
        "outputId": "5d907086-dd13-438e-8245-d60c74b14ed7"
      },
      "execution_count": 6,
      "outputs": [
        {
          "output_type": "stream",
          "name": "stdout",
          "text": [
            "[9, 6, 5]\n"
          ]
        }
      ]
    },
    {
      "cell_type": "code",
      "source": [
        "#Task 38: Rotate Matrix\n",
        "#Objective: Rotate a matrix 90 degrees clockwise.\n",
        "\n",
        "#Code:-\n",
        "def rotate_matrix(matrix):\n",
        "    return [list(row) for row in zip(*matrix[::-1])]\n",
        "\n",
        "#Example\n",
        "mat = [\n",
        "    [1, 2, 3],\n",
        "    [4, 5, 6],\n",
        "    [7, 8, 9]\n",
        "]\n",
        "print(rotate_matrix(mat))"
      ],
      "metadata": {
        "colab": {
          "base_uri": "https://localhost:8080/"
        },
        "id": "nVdSz5m8jBXS",
        "outputId": "e26f5dfa-b323-479d-b139-b19b9d89bbb2"
      },
      "execution_count": 7,
      "outputs": [
        {
          "output_type": "stream",
          "name": "stdout",
          "text": [
            "[[7, 4, 1], [8, 5, 2], [9, 6, 3]]\n"
          ]
        }
      ]
    },
    {
      "cell_type": "code",
      "source": [
        "#Task 39: Sudoku Validator\n",
        "#Objective: Validate whether a given Sudoku board configuration is valid.\n",
        "\n",
        "#Code:-\n",
        "def is_valid_sudoku(board):\n",
        "    def is_valid_group(group):\n",
        "        nums = [x for x in group if x != \".\"]\n",
        "        return len(nums) == len(set(nums))\n",
        "\n",
        "    #Check Rows\n",
        "    for row in board:\n",
        "        if not is_valid_group(row):\n",
        "            return False\n",
        "\n",
        "    #Check Columns\n",
        "    for col in zip(*board):\n",
        "        if not is_valid_group(col):\n",
        "            return False\n",
        "\n",
        "    #Check 3x3 subgrids\n",
        "    for i in range(0, 9, 3):\n",
        "        for j in range(0, 9, 3):\n",
        "            subgrid = [board[x][y] for x in range(i, i+3) for y in range(j, j+3)]\n",
        "            if not is_valid_group(subgrid):\n",
        "                return False\n",
        "\n",
        "    return True\n",
        "\n",
        "#Example(Valid State of Sudoku)\n",
        "board = [\n",
        " [\"5\",\"3\",\".\",\".\",\"7\",\".\",\".\",\".\",\".\"],\n",
        " [\"6\",\".\",\".\",\"1\",\"9\",\"5\",\".\",\".\",\".\"],\n",
        " [\".\",\"9\",\"8\",\".\",\".\",\".\",\".\",\"6\",\".\"],\n",
        " [\"8\",\".\",\".\",\".\",\"6\",\".\",\".\",\".\",\"3\"],\n",
        " [\"4\",\".\",\".\",\"8\",\".\",\"3\",\".\",\".\",\"1\"],\n",
        " [\"7\",\".\",\".\",\".\",\"2\",\".\",\".\",\".\",\"6\"],\n",
        " [\".\",\"6\",\".\",\".\",\".\",\".\",\"2\",\"8\",\".\"],\n",
        " [\".\",\".\",\".\",\"4\",\"1\",\"9\",\".\",\".\",\"5\"],\n",
        " [\".\",\".\",\".\",\".\",\"8\",\".\",\".\",\"7\",\"9\"]\n",
        "]\n",
        "print(is_valid_sudoku(board))"
      ],
      "metadata": {
        "colab": {
          "base_uri": "https://localhost:8080/"
        },
        "id": "Pgv1fDZIjIKS",
        "outputId": "17c95bb2-cf02-41df-d56a-0a6891bf3f8b"
      },
      "execution_count": 8,
      "outputs": [
        {
          "output_type": "stream",
          "name": "stdout",
          "text": [
            "True\n"
          ]
        }
      ]
    }
  ]
}